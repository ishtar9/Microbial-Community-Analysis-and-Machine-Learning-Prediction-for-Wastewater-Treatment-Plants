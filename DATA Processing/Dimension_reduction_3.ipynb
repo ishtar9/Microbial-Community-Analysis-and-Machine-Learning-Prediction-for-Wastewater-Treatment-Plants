{
 "cells": [
  {
   "cell_type": "markdown",
   "id": "dff17238",
   "metadata": {},
   "source": [
    "# 特征选择之互信息法"
   ]
  },
  {
   "cell_type": "code",
   "execution_count": null,
   "id": "de84859e",
   "metadata": {},
   "outputs": [],
   "source": [
    "\"\"\"\n",
    "包含两个类feature_selection.mutual_info_classif（互信息分类）\n",
    "     和feature_selection.mutual_info_regression（互信息回归）\n",
    "\"\"\""
   ]
  },
  {
   "cell_type": "code",
   "execution_count": 2,
   "id": "f3927adf",
   "metadata": {},
   "outputs": [
    {
     "name": "stdout",
     "output_type": "stream",
     "text": [
      "[0.06110971 0.13300941 0.03929975 ... 0.04081578 0.09183624 0.06440223]\n"
     ]
    },
    {
     "ename": "AttributeError",
     "evalue": "'numpy.ndarray' object has no attribute 'tocsv'",
     "output_type": "error",
     "traceback": [
      "\u001b[1;31m---------------------------------------------------------------------------\u001b[0m",
      "\u001b[1;31mAttributeError\u001b[0m                            Traceback (most recent call last)",
      "\u001b[1;32m~\\AppData\\Local\\Temp/ipykernel_13048/1916283296.py\u001b[0m in \u001b[0;36m<module>\u001b[1;34m\u001b[0m\n\u001b[0;32m     16\u001b[0m \u001b[0mprint\u001b[0m\u001b[1;33m(\u001b[0m\u001b[0mh\u001b[0m\u001b[1;33m)\u001b[0m\u001b[1;33m\u001b[0m\u001b[1;33m\u001b[0m\u001b[0m\n\u001b[0;32m     17\u001b[0m \u001b[1;33m\u001b[0m\u001b[0m\n\u001b[1;32m---> 18\u001b[1;33m \u001b[0mh\u001b[0m\u001b[1;33m.\u001b[0m\u001b[0mtocsv\u001b[0m\u001b[1;33m(\u001b[0m\u001b[1;34m\"info.csv\"\u001b[0m\u001b[1;33m)\u001b[0m\u001b[1;33m\u001b[0m\u001b[1;33m\u001b[0m\u001b[0m\n\u001b[0m\u001b[0;32m     19\u001b[0m \u001b[0mprint\u001b[0m\u001b[1;33m(\u001b[0m\u001b[1;34m\"保存完成！\"\u001b[0m\u001b[1;33m)\u001b[0m\u001b[1;33m\u001b[0m\u001b[1;33m\u001b[0m\u001b[0m\n\u001b[0;32m     20\u001b[0m \u001b[1;33m\u001b[0m\u001b[0m\n",
      "\u001b[1;31mAttributeError\u001b[0m: 'numpy.ndarray' object has no attribute 'tocsv'"
     ]
    }
   ],
   "source": [
    "from sklearn.feature_selection import mutual_info_regression\n",
    "import numpy as np\n",
    "import pandas as pd\n",
    "\n",
    "\n",
    "inputfile = r'F:\\jupyter_notebook\\Data\\数据集\\6组数据(处理完异常值，不带NA)\\Temp.csv' #输入的数据文件\n",
    "\n",
    "data = pd.read_csv(inputfile) #读取数据\n",
    "\n",
    "x = data.iloc[:,0:-1]\n",
    "y = data['Temp']\n",
    "\n",
    "h = mutual_info_regression(x, y)\n",
    "\n",
    "print(h)\n",
    "\n",
    "new = pd.DataFrame(h)\n",
    "new.to_csv(\"info.csv\")\n",
    "print(\"保存完成！\")\n",
    "\n"
   ]
  },
  {
   "cell_type": "code",
   "execution_count": 4,
   "id": "b84f8ce8",
   "metadata": {},
   "outputs": [
    {
     "name": "stdout",
     "output_type": "stream",
     "text": [
      "保存完成！\n"
     ]
    }
   ],
   "source": []
  },
  {
   "cell_type": "code",
   "execution_count": null,
   "id": "e33696b2",
   "metadata": {},
   "outputs": [],
   "source": []
  }
 ],
 "metadata": {
  "kernelspec": {
   "display_name": "Python 3 (ipykernel)",
   "language": "python",
   "name": "python3"
  },
  "language_info": {
   "codemirror_mode": {
    "name": "ipython",
    "version": 3
   },
   "file_extension": ".py",
   "mimetype": "text/x-python",
   "name": "python",
   "nbconvert_exporter": "python",
   "pygments_lexer": "ipython3",
   "version": "3.9.13"
  }
 },
 "nbformat": 4,
 "nbformat_minor": 5
}
