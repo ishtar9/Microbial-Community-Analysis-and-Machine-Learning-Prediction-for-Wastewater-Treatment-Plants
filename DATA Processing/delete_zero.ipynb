{
 "cells": [
  {
   "cell_type": "markdown",
   "id": "c534357b",
   "metadata": {},
   "source": [
    "# 数据预处理第一步：多0剔除"
   ]
  },
  {
   "cell_type": "code",
   "execution_count": null,
   "id": "8dbf5c49",
   "metadata": {},
   "outputs": [],
   "source": [
    "# 导入pandas的包\n",
    "import pandas as pd\n",
    "import numpy as np\n",
    "# 读入文件并 展示前五行数据\n",
    "print(\"start\")\n",
    "# low_memory = False  就是读取列很多的数据的时候需要使用这个\n",
    "data = pd.read_csv('original.csv',low_memory=False)\n",
    "display(data.head(5))\n",
    "print(data.shape)\n",
    "print(\"over\")\n",
    "\n",
    "\n",
    "ft = data\n",
    "new = []\n",
    "sum = 0\n",
    "# i表示行的索引，r表示这一行的所有数据，相当于r就是一个一维数组\n",
    "for i,r in ft.iterrows():\n",
    "    \n",
    "    tntn = 0\n",
    "    print(\"开始第%d行\" %i)\n",
    "    \n",
    "    for j in range(1,1187):\n",
    "        if r[j] == 0:\n",
    "            tntn +=1\n",
    "    print(\"结束第%d行\" %i)\n",
    "    \n",
    "    # 表示只要0值小于85%就进行保留\n",
    "    if (tntn/1186<0.85):\n",
    "        #print(r)\n",
    "        sum += 1\n",
    "        new.append(np.array(r))\n",
    "        print(\"加入一行成功！\")\n",
    "        \n",
    "print(\"加入完成!\")\n",
    "print(\"一共加入%d行数据\" %sum)\n",
    "#ft.to_csv('test.csv',encoding=\"utf_8_sig\")\n",
    "dataframe = pd.DataFrame(new)\n",
    "dataframe.to_csv('test.csv')\n",
    "print(\"写入完成!\")"
   ]
  }
 ],
 "metadata": {
  "kernelspec": {
   "display_name": "Python 3 (ipykernel)",
   "language": "python",
   "name": "python3"
  },
  "language_info": {
   "codemirror_mode": {
    "name": "ipython",
    "version": 3
   },
   "file_extension": ".py",
   "mimetype": "text/x-python",
   "name": "python",
   "nbconvert_exporter": "python",
   "pygments_lexer": "ipython3",
   "version": "3.9.7"
  }
 },
 "nbformat": 4,
 "nbformat_minor": 5
}
