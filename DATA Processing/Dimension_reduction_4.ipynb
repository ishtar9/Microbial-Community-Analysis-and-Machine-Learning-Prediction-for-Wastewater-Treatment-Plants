{
 "cells": [
  {
   "cell_type": "markdown",
   "id": "411ee721",
   "metadata": {},
   "source": [
    "# 特征选择之随机森林"
   ]
  },
  {
   "cell_type": "code",
   "execution_count": 1,
   "id": "a8f1510c",
   "metadata": {},
   "outputs": [
    {
     "name": "stdout",
     "output_type": "stream",
     "text": [
      "开始读入数据\n",
      "开始训练模型\n",
      "训练模型结束==============================================\n",
      "[3.18018832e-04 2.46651984e-04 1.10306716e-06 ... 2.23457995e-04\n",
      " 7.71491890e-07 3.93565988e-18]\n"
     ]
    }
   ],
   "source": [
    "import pandas as pd\n",
    "import numpy as np\n",
    "from sklearn.ensemble import RandomForestRegressor\n",
    "\n",
    "print(\"开始读入数据\")\n",
    "\n",
    "# 读入文件\n",
    "data = pd.read_csv(r'F:\\jupyter_notebook\\Data\\数据集\\6组数据(处理完异常值，不带NA)\\Temp.csv')\n",
    "\n",
    "x = data.iloc[:,0:-1]\n",
    "y = data['Temp']\n",
    "\n",
    "print(\"开始训练模型\")\n",
    "\n",
    "rf = RandomForestRegressor()\n",
    "# Train the model on training data\n",
    "rf.fit(x,y)\n",
    "print(\"训练模型结束==============================================\")\n",
    "\n",
    "\n",
    "importances = rf.feature_importances_\n",
    "\n",
    "print(importances)\n",
    "\n"
   ]
  },
  {
   "cell_type": "code",
   "execution_count": 2,
   "id": "296f5679",
   "metadata": {},
   "outputs": [
    {
     "name": "stdout",
     "output_type": "stream",
     "text": [
      "保存完成！\n"
     ]
    }
   ],
   "source": [
    "new = pd.DataFrame(importances)\n",
    "\n",
    "new.to_csv(\"rf.csv\")\n",
    "print(\"保存完成！\")"
   ]
  },
  {
   "cell_type": "code",
   "execution_count": null,
   "id": "9ac9f86a",
   "metadata": {},
   "outputs": [],
   "source": []
  }
 ],
 "metadata": {
  "kernelspec": {
   "display_name": "Python 3 (ipykernel)",
   "language": "python",
   "name": "python3"
  },
  "language_info": {
   "codemirror_mode": {
    "name": "ipython",
    "version": 3
   },
   "file_extension": ".py",
   "mimetype": "text/x-python",
   "name": "python",
   "nbconvert_exporter": "python",
   "pygments_lexer": "ipython3",
   "version": "3.9.13"
  }
 },
 "nbformat": 4,
 "nbformat_minor": 5
}
