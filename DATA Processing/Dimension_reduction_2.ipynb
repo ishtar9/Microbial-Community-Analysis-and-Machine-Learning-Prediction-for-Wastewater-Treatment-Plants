{
 "cells": [
  {
   "cell_type": "markdown",
   "id": "4fde5e56",
   "metadata": {},
   "source": [
    "# 特征选择：LASSO回归分析，LASSO特征筛选"
   ]
  },
  {
   "cell_type": "code",
   "execution_count": 15,
   "id": "3fb2662c",
   "metadata": {},
   "outputs": [
    {
     "name": "stdout",
     "output_type": "stream",
     "text": [
      "相关系数为： [-0.0e+00  4.3e-04 -0.0e+00 ... -3.0e-05 -0.0e+00 -0.0e+00]\n",
      "相关系数非零个数为： 249\n",
      "相关系数是否为零： [False  True False ...  True False False]\n",
      "保存完成！\n"
     ]
    }
   ],
   "source": [
    "import numpy as np\n",
    "\n",
    "import pandas as pd\n",
    "# 导入LASSO，一种非常流行的变量选择方法\n",
    "from sklearn.linear_model import Lasso\n",
    "\n",
    "inputfile = r'F:\\jupyter_notebook\\Data\\数据集\\6组数据(处理完异常值，不带NA)\\Temp.csv' #输入的数据文件\n",
    "\n",
    "data = pd.read_csv(inputfile) #读取数据\n",
    "\n",
    "# 使用默认参数，\n",
    "lasso = Lasso(alpha=1)  #调用Lasso()函数，设置λ的值为1000\n",
    "\n",
    "#iloc[]通过行号或者列号进行取数据\n",
    "# loc[]通过索引来取具体数据\n",
    "# ilco[:,0:12] 第一个“：”表示所有行，第二个“0:12”表示，第一列到12行结束\n",
    "\n",
    "lasso.fit(data.iloc[:,0:-1],data['Temp'])\n",
    "\n",
    "# lasso.coef_表示权重向量，保留五位小数\n",
    "print('相关系数为：',np.round(lasso.coef_,5))  #输出结果，保留五位小数\n",
    "\n",
    "\n",
    "## 计算相关系数非零的个数\n",
    "\n",
    "print('相关系数非零个数为：',np.sum(lasso.coef_ != 0))\n",
    "\n",
    "mask = lasso.coef_ != 0  #返回一个相关系数是否为零的布尔数组\n",
    "\n",
    "print('相关系数是否为零：',mask)\n",
    "\n",
    "# 新建一个序列，用来存储所有特征的权重\n",
    "new = []\n",
    "\n",
    "new.append(np.array(np.round(lasso.coef_,9)))\n",
    "new.append(mask)\n",
    "#outputfile = 'C:\\\\Users\\\\27342\\\\Desktop\\\\new_reg_data.csv'  #输出的数据文件\n",
    "\n",
    "# 这里表示返回非零特征，表示减特征\n",
    "#new_reg_data = data.iloc[:,mask]  #返回相关系数非零的数据\n",
    "\n",
    "#new_reg_data.to_csv(outputfile)  #存储数据\n",
    "dataframe = pd.DataFrame(new)\n",
    "\n",
    "dataframe.to_csv(\"lasso.csv\")\n",
    "print(\"保存完成！\")\n"
   ]
  },
  {
   "cell_type": "code",
   "execution_count": null,
   "id": "9fd8459a",
   "metadata": {},
   "outputs": [],
   "source": []
  }
 ],
 "metadata": {
  "kernelspec": {
   "display_name": "Python 3 (ipykernel)",
   "language": "python",
   "name": "python3"
  },
  "language_info": {
   "codemirror_mode": {
    "name": "ipython",
    "version": 3
   },
   "file_extension": ".py",
   "mimetype": "text/x-python",
   "name": "python",
   "nbconvert_exporter": "python",
   "pygments_lexer": "ipython3",
   "version": "3.9.13"
  }
 },
 "nbformat": 4,
 "nbformat_minor": 5
}
